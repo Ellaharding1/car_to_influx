{
 "cells": [
  {
   "metadata": {
    "ExecuteTime": {
     "end_time": "2024-11-29T02:01:06.376315Z",
     "start_time": "2024-11-29T02:01:01.311022Z"
    }
   },
   "cell_type": "code",
   "source": [
    "from readCANOptimized import parse_can_message, process_lines\n",
    "import cantools\n",
    "import influxdb_client, os, time\n",
    "from influxdb_client import InfluxDBClient, Point, WritePrecision\n",
    "from influxdb_client.client.write_api import SYNCHRONOUS\n",
    "\n",
    "token = os.environ.get(\"INFLUXDB_TOKEN\")\n",
    "token = \"W_GLt2socDNz1k3CTd3azWK5ivddMl2gKeIHa53nHQzHJt7CP-gtf0k6ewbaqhGHveMIFStfYJCdmrfhvMdQcg==\"\n",
    "org = \"WFR\"\n",
    "url = \"http://localhost:8086\"\n",
    "\n",
    "client = influxdb_client.InfluxDBClient(url=url, token=token, org=org)\n",
    "\n",
    "bucket = \"canBus\"\n",
    "\n",
    "write_api = client.write_api(write_options=SYNCHRONOUS)\n",
    "\n",
    "for value in range(5):\n",
    "    point = (\n",
    "        Point(\"measurement1\")\n",
    "        .tag(\"tagname1\", \"tagvalue1\")\n",
    "        .field(\"field1\", value)\n",
    "    )\n",
    "    write_api.write(bucket=bucket, org=\"WFR\", record=point)\n",
    "    time.sleep(1)  # separate points by 1 second\n",
    "\n",
    "\n"
   ],
   "id": "14ff31fc30d5546e",
   "outputs": [],
   "execution_count": 2
  },
  {
   "metadata": {
    "ExecuteTime": {
     "end_time": "2024-11-29T02:01:07.261019Z",
     "start_time": "2024-11-29T02:01:07.247557Z"
    }
   },
   "cell_type": "code",
   "source": [
    "query_api = client.query_api()\n",
    "\n",
    "query = \"\"\"from(bucket: \"canBus\")\n",
    " |> range(start: -10m)\n",
    " |> filter(fn: (r) => r._measurement == \"measurement1\")\"\"\"\n",
    "tables = query_api.query(query, org=\"WFR\")\n",
    "\n",
    "for table in tables:\n",
    "  for record in table.records:\n",
    "    print(record)\n"
   ],
   "id": "45ad0db1f02c96f3",
   "outputs": [
    {
     "name": "stdout",
     "output_type": "stream",
     "text": [
      "FluxRecord() table: 0, {'result': '_result', 'table': 0, '_start': datetime.datetime(2024, 11, 29, 1, 51, 7, 249970, tzinfo=datetime.timezone.utc), '_stop': datetime.datetime(2024, 11, 29, 2, 1, 7, 249970, tzinfo=datetime.timezone.utc), '_time': datetime.datetime(2024, 11, 29, 1, 57, 5, 590965, tzinfo=datetime.timezone.utc), '_value': 0, '_field': 'field1', '_measurement': 'measurement1', 'tagname1': 'tagvalue1'}\n",
      "FluxRecord() table: 0, {'result': '_result', 'table': 0, '_start': datetime.datetime(2024, 11, 29, 1, 51, 7, 249970, tzinfo=datetime.timezone.utc), '_stop': datetime.datetime(2024, 11, 29, 2, 1, 7, 249970, tzinfo=datetime.timezone.utc), '_time': datetime.datetime(2024, 11, 29, 1, 57, 6, 606992, tzinfo=datetime.timezone.utc), '_value': 1, '_field': 'field1', '_measurement': 'measurement1', 'tagname1': 'tagvalue1'}\n",
      "FluxRecord() table: 0, {'result': '_result', 'table': 0, '_start': datetime.datetime(2024, 11, 29, 1, 51, 7, 249970, tzinfo=datetime.timezone.utc), '_stop': datetime.datetime(2024, 11, 29, 2, 1, 7, 249970, tzinfo=datetime.timezone.utc), '_time': datetime.datetime(2024, 11, 29, 1, 57, 7, 621616, tzinfo=datetime.timezone.utc), '_value': 2, '_field': 'field1', '_measurement': 'measurement1', 'tagname1': 'tagvalue1'}\n",
      "FluxRecord() table: 0, {'result': '_result', 'table': 0, '_start': datetime.datetime(2024, 11, 29, 1, 51, 7, 249970, tzinfo=datetime.timezone.utc), '_stop': datetime.datetime(2024, 11, 29, 2, 1, 7, 249970, tzinfo=datetime.timezone.utc), '_time': datetime.datetime(2024, 11, 29, 1, 57, 8, 633703, tzinfo=datetime.timezone.utc), '_value': 3, '_field': 'field1', '_measurement': 'measurement1', 'tagname1': 'tagvalue1'}\n",
      "FluxRecord() table: 0, {'result': '_result', 'table': 0, '_start': datetime.datetime(2024, 11, 29, 1, 51, 7, 249970, tzinfo=datetime.timezone.utc), '_stop': datetime.datetime(2024, 11, 29, 2, 1, 7, 249970, tzinfo=datetime.timezone.utc), '_time': datetime.datetime(2024, 11, 29, 1, 57, 9, 644257, tzinfo=datetime.timezone.utc), '_value': 4, '_field': 'field1', '_measurement': 'measurement1', 'tagname1': 'tagvalue1'}\n",
      "FluxRecord() table: 0, {'result': '_result', 'table': 0, '_start': datetime.datetime(2024, 11, 29, 1, 51, 7, 249970, tzinfo=datetime.timezone.utc), '_stop': datetime.datetime(2024, 11, 29, 2, 1, 7, 249970, tzinfo=datetime.timezone.utc), '_time': datetime.datetime(2024, 11, 29, 1, 58, 5, 513242, tzinfo=datetime.timezone.utc), '_value': 0, '_field': 'field1', '_measurement': 'measurement1', 'tagname1': 'tagvalue1'}\n",
      "FluxRecord() table: 0, {'result': '_result', 'table': 0, '_start': datetime.datetime(2024, 11, 29, 1, 51, 7, 249970, tzinfo=datetime.timezone.utc), '_stop': datetime.datetime(2024, 11, 29, 2, 1, 7, 249970, tzinfo=datetime.timezone.utc), '_time': datetime.datetime(2024, 11, 29, 1, 58, 6, 523760, tzinfo=datetime.timezone.utc), '_value': 1, '_field': 'field1', '_measurement': 'measurement1', 'tagname1': 'tagvalue1'}\n",
      "FluxRecord() table: 0, {'result': '_result', 'table': 0, '_start': datetime.datetime(2024, 11, 29, 1, 51, 7, 249970, tzinfo=datetime.timezone.utc), '_stop': datetime.datetime(2024, 11, 29, 2, 1, 7, 249970, tzinfo=datetime.timezone.utc), '_time': datetime.datetime(2024, 11, 29, 1, 58, 7, 535461, tzinfo=datetime.timezone.utc), '_value': 2, '_field': 'field1', '_measurement': 'measurement1', 'tagname1': 'tagvalue1'}\n",
      "FluxRecord() table: 0, {'result': '_result', 'table': 0, '_start': datetime.datetime(2024, 11, 29, 1, 51, 7, 249970, tzinfo=datetime.timezone.utc), '_stop': datetime.datetime(2024, 11, 29, 2, 1, 7, 249970, tzinfo=datetime.timezone.utc), '_time': datetime.datetime(2024, 11, 29, 1, 58, 8, 545511, tzinfo=datetime.timezone.utc), '_value': 3, '_field': 'field1', '_measurement': 'measurement1', 'tagname1': 'tagvalue1'}\n",
      "FluxRecord() table: 0, {'result': '_result', 'table': 0, '_start': datetime.datetime(2024, 11, 29, 1, 51, 7, 249970, tzinfo=datetime.timezone.utc), '_stop': datetime.datetime(2024, 11, 29, 2, 1, 7, 249970, tzinfo=datetime.timezone.utc), '_time': datetime.datetime(2024, 11, 29, 1, 58, 9, 556414, tzinfo=datetime.timezone.utc), '_value': 4, '_field': 'field1', '_measurement': 'measurement1', 'tagname1': 'tagvalue1'}\n",
      "FluxRecord() table: 0, {'result': '_result', 'table': 0, '_start': datetime.datetime(2024, 11, 29, 1, 51, 7, 249970, tzinfo=datetime.timezone.utc), '_stop': datetime.datetime(2024, 11, 29, 2, 1, 7, 249970, tzinfo=datetime.timezone.utc), '_time': datetime.datetime(2024, 11, 29, 1, 58, 21, 962854, tzinfo=datetime.timezone.utc), '_value': 0, '_field': 'field1', '_measurement': 'measurement1', 'tagname1': 'tagvalue1'}\n",
      "FluxRecord() table: 0, {'result': '_result', 'table': 0, '_start': datetime.datetime(2024, 11, 29, 1, 51, 7, 249970, tzinfo=datetime.timezone.utc), '_stop': datetime.datetime(2024, 11, 29, 2, 1, 7, 249970, tzinfo=datetime.timezone.utc), '_time': datetime.datetime(2024, 11, 29, 1, 58, 22, 973514, tzinfo=datetime.timezone.utc), '_value': 1, '_field': 'field1', '_measurement': 'measurement1', 'tagname1': 'tagvalue1'}\n",
      "FluxRecord() table: 0, {'result': '_result', 'table': 0, '_start': datetime.datetime(2024, 11, 29, 1, 51, 7, 249970, tzinfo=datetime.timezone.utc), '_stop': datetime.datetime(2024, 11, 29, 2, 1, 7, 249970, tzinfo=datetime.timezone.utc), '_time': datetime.datetime(2024, 11, 29, 1, 58, 23, 986702, tzinfo=datetime.timezone.utc), '_value': 2, '_field': 'field1', '_measurement': 'measurement1', 'tagname1': 'tagvalue1'}\n",
      "FluxRecord() table: 0, {'result': '_result', 'table': 0, '_start': datetime.datetime(2024, 11, 29, 1, 51, 7, 249970, tzinfo=datetime.timezone.utc), '_stop': datetime.datetime(2024, 11, 29, 2, 1, 7, 249970, tzinfo=datetime.timezone.utc), '_time': datetime.datetime(2024, 11, 29, 1, 58, 24, 997596, tzinfo=datetime.timezone.utc), '_value': 3, '_field': 'field1', '_measurement': 'measurement1', 'tagname1': 'tagvalue1'}\n",
      "FluxRecord() table: 0, {'result': '_result', 'table': 0, '_start': datetime.datetime(2024, 11, 29, 1, 51, 7, 249970, tzinfo=datetime.timezone.utc), '_stop': datetime.datetime(2024, 11, 29, 2, 1, 7, 249970, tzinfo=datetime.timezone.utc), '_time': datetime.datetime(2024, 11, 29, 1, 58, 26, 11421, tzinfo=datetime.timezone.utc), '_value': 4, '_field': 'field1', '_measurement': 'measurement1', 'tagname1': 'tagvalue1'}\n",
      "FluxRecord() table: 0, {'result': '_result', 'table': 0, '_start': datetime.datetime(2024, 11, 29, 1, 51, 7, 249970, tzinfo=datetime.timezone.utc), '_stop': datetime.datetime(2024, 11, 29, 2, 1, 7, 249970, tzinfo=datetime.timezone.utc), '_time': datetime.datetime(2024, 11, 29, 2, 0, 32, 511150, tzinfo=datetime.timezone.utc), '_value': 0, '_field': 'field1', '_measurement': 'measurement1', 'tagname1': 'tagvalue1'}\n",
      "FluxRecord() table: 0, {'result': '_result', 'table': 0, '_start': datetime.datetime(2024, 11, 29, 1, 51, 7, 249970, tzinfo=datetime.timezone.utc), '_stop': datetime.datetime(2024, 11, 29, 2, 1, 7, 249970, tzinfo=datetime.timezone.utc), '_time': datetime.datetime(2024, 11, 29, 2, 0, 33, 520118, tzinfo=datetime.timezone.utc), '_value': 1, '_field': 'field1', '_measurement': 'measurement1', 'tagname1': 'tagvalue1'}\n",
      "FluxRecord() table: 0, {'result': '_result', 'table': 0, '_start': datetime.datetime(2024, 11, 29, 1, 51, 7, 249970, tzinfo=datetime.timezone.utc), '_stop': datetime.datetime(2024, 11, 29, 2, 1, 7, 249970, tzinfo=datetime.timezone.utc), '_time': datetime.datetime(2024, 11, 29, 2, 0, 34, 533090, tzinfo=datetime.timezone.utc), '_value': 2, '_field': 'field1', '_measurement': 'measurement1', 'tagname1': 'tagvalue1'}\n",
      "FluxRecord() table: 0, {'result': '_result', 'table': 0, '_start': datetime.datetime(2024, 11, 29, 1, 51, 7, 249970, tzinfo=datetime.timezone.utc), '_stop': datetime.datetime(2024, 11, 29, 2, 1, 7, 249970, tzinfo=datetime.timezone.utc), '_time': datetime.datetime(2024, 11, 29, 2, 0, 35, 543465, tzinfo=datetime.timezone.utc), '_value': 3, '_field': 'field1', '_measurement': 'measurement1', 'tagname1': 'tagvalue1'}\n",
      "FluxRecord() table: 0, {'result': '_result', 'table': 0, '_start': datetime.datetime(2024, 11, 29, 1, 51, 7, 249970, tzinfo=datetime.timezone.utc), '_stop': datetime.datetime(2024, 11, 29, 2, 1, 7, 249970, tzinfo=datetime.timezone.utc), '_time': datetime.datetime(2024, 11, 29, 2, 0, 36, 550082, tzinfo=datetime.timezone.utc), '_value': 4, '_field': 'field1', '_measurement': 'measurement1', 'tagname1': 'tagvalue1'}\n",
      "FluxRecord() table: 0, {'result': '_result', 'table': 0, '_start': datetime.datetime(2024, 11, 29, 1, 51, 7, 249970, tzinfo=datetime.timezone.utc), '_stop': datetime.datetime(2024, 11, 29, 2, 1, 7, 249970, tzinfo=datetime.timezone.utc), '_time': datetime.datetime(2024, 11, 29, 2, 1, 1, 318785, tzinfo=datetime.timezone.utc), '_value': 0, '_field': 'field1', '_measurement': 'measurement1', 'tagname1': 'tagvalue1'}\n",
      "FluxRecord() table: 0, {'result': '_result', 'table': 0, '_start': datetime.datetime(2024, 11, 29, 1, 51, 7, 249970, tzinfo=datetime.timezone.utc), '_stop': datetime.datetime(2024, 11, 29, 2, 1, 7, 249970, tzinfo=datetime.timezone.utc), '_time': datetime.datetime(2024, 11, 29, 2, 1, 2, 329785, tzinfo=datetime.timezone.utc), '_value': 1, '_field': 'field1', '_measurement': 'measurement1', 'tagname1': 'tagvalue1'}\n",
      "FluxRecord() table: 0, {'result': '_result', 'table': 0, '_start': datetime.datetime(2024, 11, 29, 1, 51, 7, 249970, tzinfo=datetime.timezone.utc), '_stop': datetime.datetime(2024, 11, 29, 2, 1, 7, 249970, tzinfo=datetime.timezone.utc), '_time': datetime.datetime(2024, 11, 29, 2, 1, 3, 340188, tzinfo=datetime.timezone.utc), '_value': 2, '_field': 'field1', '_measurement': 'measurement1', 'tagname1': 'tagvalue1'}\n",
      "FluxRecord() table: 0, {'result': '_result', 'table': 0, '_start': datetime.datetime(2024, 11, 29, 1, 51, 7, 249970, tzinfo=datetime.timezone.utc), '_stop': datetime.datetime(2024, 11, 29, 2, 1, 7, 249970, tzinfo=datetime.timezone.utc), '_time': datetime.datetime(2024, 11, 29, 2, 1, 4, 351557, tzinfo=datetime.timezone.utc), '_value': 3, '_field': 'field1', '_measurement': 'measurement1', 'tagname1': 'tagvalue1'}\n",
      "FluxRecord() table: 0, {'result': '_result', 'table': 0, '_start': datetime.datetime(2024, 11, 29, 1, 51, 7, 249970, tzinfo=datetime.timezone.utc), '_stop': datetime.datetime(2024, 11, 29, 2, 1, 7, 249970, tzinfo=datetime.timezone.utc), '_time': datetime.datetime(2024, 11, 29, 2, 1, 5, 364711, tzinfo=datetime.timezone.utc), '_value': 4, '_field': 'field1', '_measurement': 'measurement1', 'tagname1': 'tagvalue1'}\n"
     ]
    }
   ],
   "execution_count": 3
  },
  {
   "metadata": {},
   "cell_type": "code",
   "outputs": [],
   "execution_count": null,
   "source": "",
   "id": "a2644ae5a3393b69"
  }
 ],
 "metadata": {
  "kernelspec": {
   "display_name": "Python 3",
   "language": "python",
   "name": "python3"
  },
  "language_info": {
   "codemirror_mode": {
    "name": "ipython",
    "version": 2
   },
   "file_extension": ".py",
   "mimetype": "text/x-python",
   "name": "python",
   "nbconvert_exporter": "python",
   "pygments_lexer": "ipython2",
   "version": "2.7.6"
  }
 },
 "nbformat": 4,
 "nbformat_minor": 5
}
