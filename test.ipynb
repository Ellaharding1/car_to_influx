{
 "cells": [
  {
   "metadata": {
    "ExecuteTime": {
     "end_time": "2024-11-29T02:27:50.677068Z",
     "start_time": "2024-11-29T02:27:50.674801Z"
    }
   },
   "cell_type": "code",
   "source": "from datetime import datetime, timezone\n",
   "id": "2dbbb18961359d73",
   "outputs": [],
   "execution_count": 10
  },
  {
   "metadata": {
    "ExecuteTime": {
     "end_time": "2024-11-29T02:27:51.232774Z",
     "start_time": "2024-11-29T02:27:51.229975Z"
    }
   },
   "cell_type": "code",
   "source": "now = datetime.now(timezone.utc)",
   "id": "2b03376cd37c1b58",
   "outputs": [],
   "execution_count": 11
  },
  {
   "metadata": {
    "ExecuteTime": {
     "end_time": "2024-11-29T02:27:56.753088Z",
     "start_time": "2024-11-29T02:27:56.750544Z"
    }
   },
   "cell_type": "code",
   "source": "print(now)",
   "id": "52cf364350d3a2bb",
   "outputs": [
    {
     "name": "stdout",
     "output_type": "stream",
     "text": [
      "2024-11-29 02:27:51.230955+00:00\n"
     ]
    }
   ],
   "execution_count": 12
  },
  {
   "metadata": {},
   "cell_type": "code",
   "outputs": [],
   "execution_count": null,
   "source": "",
   "id": "452b68137ee22bbf"
  }
 ],
 "metadata": {
  "kernelspec": {
   "display_name": "Python 3",
   "language": "python",
   "name": "python3"
  },
  "language_info": {
   "codemirror_mode": {
    "name": "ipython",
    "version": 2
   },
   "file_extension": ".py",
   "mimetype": "text/x-python",
   "name": "python",
   "nbconvert_exporter": "python",
   "pygments_lexer": "ipython2",
   "version": "2.7.6"
  }
 },
 "nbformat": 4,
 "nbformat_minor": 5
}
